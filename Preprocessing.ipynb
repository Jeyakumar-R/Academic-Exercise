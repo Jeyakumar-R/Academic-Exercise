{
  "nbformat": 4,
  "nbformat_minor": 5,
  "metadata": {
    "kernelspec": {
      "display_name": "Python 3",
      "language": "python",
      "name": "python3"
    },
    "language_info": {
      "codemirror_mode": {
        "name": "ipython",
        "version": 3
      },
      "file_extension": ".py",
      "mimetype": "text/x-python",
      "name": "python",
      "nbconvert_exporter": "python",
      "pygments_lexer": "ipython3",
      "version": "3.9.5"
    },
    "colab": {
      "name": "Preprocessing.ipynb",
      "provenance": []
    }
  },
  "cells": [
    {
      "cell_type": "code",
      "metadata": {
        "id": "59bcf91b"
      },
      "source": [
        "import nltk"
      ],
      "id": "59bcf91b",
      "execution_count": null,
      "outputs": []
    },
    {
      "cell_type": "code",
      "metadata": {
        "id": "c90a8db6"
      },
      "source": [
        "para = \"\"\"It fills my heart with joy unspeakable to rise in response to the warm and cordial welcome which you have given us. I thank you in the name of the most ancient order of monks in the world; I thank you in the name of the mother of religions, and I thank you in the name of millions and millions of Hindu people of all classes and sects.My thanks, also, to some of the speakers on this platform who, referring to the delegates from the Orient, have told you that these men from far-off nations may well claim the honor of bearing to different lands the idea of toleration. I am proud to belong to a religion which has taught the world both tolerance and universal acceptance. We believe not only in universal toleration, but we accept all religions as true. I am proud to belong to a nation which has sheltered the persecuted and the refugees of all religions and all nations of the earth. I am proud to tell you that we have gathered in our bosom the purest remnant of the Israelites, who came to Southern India and took refuge with us in the very year in which their holy temple was shattered to pieces by Roman tyranny. I am proud to belong to the religion which has sheltered and is still fostering the remnant of the grand Zoroastrian nation. I will quote to you, brethren, a few lines from a hymn which I remember to have repeated from my earliest boyhood, which is every day repeated by millions of human beings: \"As the different streams having their sources in different paths which men take through different tendencies, various though they appear, crooked or straight, all lead to Thee.\"The present convention, which is one of the most august assemblies ever held, is in itself a vindication, a declaration to the world of the wonderful doctrine preached in the Gita: \"Whosoever comes to Me, through whatsoever form, I reach him; all men are struggling through paths which in the end lead to me.\" Sectarianism, bigotry, and its horrible descendant, fanaticism, have long possessed this beautiful earth. They have filled the earth with violence, drenched it often and often with human blood, destroyed civilization and sent whole nations to despair. Had it not been for these horrible demons, human society would be far more advanced than it is now. But their time is come; and I fervently hope that the bell that tolled this morning in honor of this convention may be the death-knell of all fanaticism, of all persecutions with the sword or with the pen, and of all uncharitable feelings between persons wending their way to the same goal.\"\"\""
      ],
      "id": "c90a8db6",
      "execution_count": null,
      "outputs": []
    },
    {
      "cell_type": "code",
      "metadata": {
        "id": "63e62b05"
      },
      "source": [
        "sentence = nltk.sent_tokenize(para)"
      ],
      "id": "63e62b05",
      "execution_count": null,
      "outputs": []
    },
    {
      "cell_type": "code",
      "metadata": {
        "id": "ecaa07aa",
        "outputId": "7083203d-5e01-4c4a-9e54-571b75b9fde8"
      },
      "source": [
        "print(sentence)"
      ],
      "id": "ecaa07aa",
      "execution_count": null,
      "outputs": [
        {
          "output_type": "stream",
          "text": [
            "['It fills my heart with joy unspeakable to rise in response to the warm and cordial welcome which you have given us.', 'I thank you in the name of the most ancient order of monks in the world; I thank you in the name of the mother of religions, and I thank you in the name of millions and millions of Hindu people of all classes and sects.My thanks, also, to some of the speakers on this platform who, referring to the delegates from the Orient, have told you that these men from far-off nations may well claim the honor of bearing to different lands the idea of toleration.', 'I am proud to belong to a religion which has taught the world both tolerance and universal acceptance.', 'We believe not only in universal toleration, but we accept all religions as true.', 'I am proud to belong to a nation which has sheltered the persecuted and the refugees of all religions and all nations of the earth.', 'I am proud to tell you that we have gathered in our bosom the purest remnant of the Israelites, who came to Southern India and took refuge with us in the very year in which their holy temple was shattered to pieces by Roman tyranny.', 'I am proud to belong to the religion which has sheltered and is still fostering the remnant of the grand Zoroastrian nation.', 'I will quote to you, brethren, a few lines from a hymn which I remember to have repeated from my earliest boyhood, which is every day repeated by millions of human beings: \"As the different streams having their sources in different paths which men take through different tendencies, various though they appear, crooked or straight, all lead to Thee.', '\"The present convention, which is one of the most august assemblies ever held, is in itself a vindication, a declaration to the world of the wonderful doctrine preached in the Gita: \"Whosoever comes to Me, through whatsoever form, I reach him; all men are struggling through paths which in the end lead to me.\"', 'Sectarianism, bigotry, and its horrible descendant, fanaticism, have long possessed this beautiful earth.', 'They have filled the earth with violence, drenched it often and often with human blood, destroyed civilization and sent whole nations to despair.', 'Had it not been for these horrible demons, human society would be far more advanced than it is now.', 'But their time is come; and I fervently hope that the bell that tolled this morning in honor of this convention may be the death-knell of all fanaticism, of all persecutions with the sword or with the pen, and of all uncharitable feelings between persons wending their way to the same goal.']\n"
          ],
          "name": "stdout"
        }
      ]
    },
    {
      "cell_type": "code",
      "metadata": {
        "id": "89aea315"
      },
      "source": [
        "word = nltk.word_tokenize(para)"
      ],
      "id": "89aea315",
      "execution_count": null,
      "outputs": []
    },
    {
      "cell_type": "code",
      "metadata": {
        "id": "2b1ae642",
        "outputId": "efdf79fc-80f6-4bb0-c5ef-45cfb032c6e2"
      },
      "source": [
        "print(word)"
      ],
      "id": "2b1ae642",
      "execution_count": null,
      "outputs": [
        {
          "output_type": "stream",
          "text": [
            "['It', 'fills', 'my', 'heart', 'with', 'joy', 'unspeakable', 'to', 'rise', 'in', 'response', 'to', 'the', 'warm', 'and', 'cordial', 'welcome', 'which', 'you', 'have', 'given', 'us', '.', 'I', 'thank', 'you', 'in', 'the', 'name', 'of', 'the', 'most', 'ancient', 'order', 'of', 'monks', 'in', 'the', 'world', ';', 'I', 'thank', 'you', 'in', 'the', 'name', 'of', 'the', 'mother', 'of', 'religions', ',', 'and', 'I', 'thank', 'you', 'in', 'the', 'name', 'of', 'millions', 'and', 'millions', 'of', 'Hindu', 'people', 'of', 'all', 'classes', 'and', 'sects.My', 'thanks', ',', 'also', ',', 'to', 'some', 'of', 'the', 'speakers', 'on', 'this', 'platform', 'who', ',', 'referring', 'to', 'the', 'delegates', 'from', 'the', 'Orient', ',', 'have', 'told', 'you', 'that', 'these', 'men', 'from', 'far-off', 'nations', 'may', 'well', 'claim', 'the', 'honor', 'of', 'bearing', 'to', 'different', 'lands', 'the', 'idea', 'of', 'toleration', '.', 'I', 'am', 'proud', 'to', 'belong', 'to', 'a', 'religion', 'which', 'has', 'taught', 'the', 'world', 'both', 'tolerance', 'and', 'universal', 'acceptance', '.', 'We', 'believe', 'not', 'only', 'in', 'universal', 'toleration', ',', 'but', 'we', 'accept', 'all', 'religions', 'as', 'true', '.', 'I', 'am', 'proud', 'to', 'belong', 'to', 'a', 'nation', 'which', 'has', 'sheltered', 'the', 'persecuted', 'and', 'the', 'refugees', 'of', 'all', 'religions', 'and', 'all', 'nations', 'of', 'the', 'earth', '.', 'I', 'am', 'proud', 'to', 'tell', 'you', 'that', 'we', 'have', 'gathered', 'in', 'our', 'bosom', 'the', 'purest', 'remnant', 'of', 'the', 'Israelites', ',', 'who', 'came', 'to', 'Southern', 'India', 'and', 'took', 'refuge', 'with', 'us', 'in', 'the', 'very', 'year', 'in', 'which', 'their', 'holy', 'temple', 'was', 'shattered', 'to', 'pieces', 'by', 'Roman', 'tyranny', '.', 'I', 'am', 'proud', 'to', 'belong', 'to', 'the', 'religion', 'which', 'has', 'sheltered', 'and', 'is', 'still', 'fostering', 'the', 'remnant', 'of', 'the', 'grand', 'Zoroastrian', 'nation', '.', 'I', 'will', 'quote', 'to', 'you', ',', 'brethren', ',', 'a', 'few', 'lines', 'from', 'a', 'hymn', 'which', 'I', 'remember', 'to', 'have', 'repeated', 'from', 'my', 'earliest', 'boyhood', ',', 'which', 'is', 'every', 'day', 'repeated', 'by', 'millions', 'of', 'human', 'beings', ':', '``', 'As', 'the', 'different', 'streams', 'having', 'their', 'sources', 'in', 'different', 'paths', 'which', 'men', 'take', 'through', 'different', 'tendencies', ',', 'various', 'though', 'they', 'appear', ',', 'crooked', 'or', 'straight', ',', 'all', 'lead', 'to', 'Thee', '.', '``', 'The', 'present', 'convention', ',', 'which', 'is', 'one', 'of', 'the', 'most', 'august', 'assemblies', 'ever', 'held', ',', 'is', 'in', 'itself', 'a', 'vindication', ',', 'a', 'declaration', 'to', 'the', 'world', 'of', 'the', 'wonderful', 'doctrine', 'preached', 'in', 'the', 'Gita', ':', '``', 'Whosoever', 'comes', 'to', 'Me', ',', 'through', 'whatsoever', 'form', ',', 'I', 'reach', 'him', ';', 'all', 'men', 'are', 'struggling', 'through', 'paths', 'which', 'in', 'the', 'end', 'lead', 'to', 'me', '.', \"''\", 'Sectarianism', ',', 'bigotry', ',', 'and', 'its', 'horrible', 'descendant', ',', 'fanaticism', ',', 'have', 'long', 'possessed', 'this', 'beautiful', 'earth', '.', 'They', 'have', 'filled', 'the', 'earth', 'with', 'violence', ',', 'drenched', 'it', 'often', 'and', 'often', 'with', 'human', 'blood', ',', 'destroyed', 'civilization', 'and', 'sent', 'whole', 'nations', 'to', 'despair', '.', 'Had', 'it', 'not', 'been', 'for', 'these', 'horrible', 'demons', ',', 'human', 'society', 'would', 'be', 'far', 'more', 'advanced', 'than', 'it', 'is', 'now', '.', 'But', 'their', 'time', 'is', 'come', ';', 'and', 'I', 'fervently', 'hope', 'that', 'the', 'bell', 'that', 'tolled', 'this', 'morning', 'in', 'honor', 'of', 'this', 'convention', 'may', 'be', 'the', 'death-knell', 'of', 'all', 'fanaticism', ',', 'of', 'all', 'persecutions', 'with', 'the', 'sword', 'or', 'with', 'the', 'pen', ',', 'and', 'of', 'all', 'uncharitable', 'feelings', 'between', 'persons', 'wending', 'their', 'way', 'to', 'the', 'same', 'goal', '.']\n"
          ],
          "name": "stdout"
        }
      ]
    },
    {
      "cell_type": "code",
      "metadata": {
        "id": "43a6ba06"
      },
      "source": [
        "from nltk.stem import PorterStemmer\n",
        "from nltk.corpus import stopwords"
      ],
      "id": "43a6ba06",
      "execution_count": null,
      "outputs": []
    },
    {
      "cell_type": "code",
      "metadata": {
        "id": "bc964154"
      },
      "source": [
        "para = \"\"\"It fills my heart with joy unspeakable to rise in response to the warm and cordial welcome which you have given us. I thank you in the name of the most ancient order of monks in the world; I thank you in the name of the mother of religions, and I thank you in the name of millions and millions of Hindu people of all classes and sects.My thanks, also, to some of the speakers on this platform who, referring to the delegates from the Orient, have told you that these men from far-off nations may well claim the honor of bearing to different lands the idea of toleration. I am proud to belong to a religion which has taught the world both tolerance and universal acceptance. We believe not only in universal toleration, but we accept all religions as true. I am proud to belong to a nation which has sheltered the persecuted and the refugees of all religions and all nations of the earth. I am proud to tell you that we have gathered in our bosom the purest remnant of the Israelites, who came to Southern India and took refuge with us in the very year in which their holy temple was shattered to pieces by Roman tyranny. I am proud to belong to the religion which has sheltered and is still fostering the remnant of the grand Zoroastrian nation. I will quote to you, brethren, a few lines from a hymn which I remember to have repeated from my earliest boyhood, which is every day repeated by millions of human beings: \"As the different streams having their sources in different paths which men take through different tendencies, various though they appear, crooked or straight, all lead to Thee.\"The present convention, which is one of the most august assemblies ever held, is in itself a vindication, a declaration to the world of the wonderful doctrine preached in the Gita: \"Whosoever comes to Me, through whatsoever form, I reach him; all men are struggling through paths which in the end lead to me.\" Sectarianism, bigotry, and its horrible descendant, fanaticism, have long possessed this beautiful earth. They have filled the earth with violence, drenched it often and often with human blood, destroyed civilization and sent whole nations to despair. Had it not been for these horrible demons, human society would be far more advanced than it is now. But their time is come; and I fervently hope that the bell that tolled this morning in honor of this convention may be the death-knell of all fanaticism, of all persecutions with the sword or with the pen, and of all uncharitable feelings between persons wending their way to the same goal.\"\"\""
      ],
      "id": "bc964154",
      "execution_count": null,
      "outputs": []
    },
    {
      "cell_type": "code",
      "metadata": {
        "id": "37ff83b0",
        "outputId": "b878c77f-d39b-4f0d-e775-9ac8b2dd1170"
      },
      "source": [
        "stopwords.words('english')"
      ],
      "id": "37ff83b0",
      "execution_count": null,
      "outputs": [
        {
          "output_type": "execute_result",
          "data": {
            "text/plain": [
              "['i',\n",
              " 'me',\n",
              " 'my',\n",
              " 'myself',\n",
              " 'we',\n",
              " 'our',\n",
              " 'ours',\n",
              " 'ourselves',\n",
              " 'you',\n",
              " \"you're\",\n",
              " \"you've\",\n",
              " \"you'll\",\n",
              " \"you'd\",\n",
              " 'your',\n",
              " 'yours',\n",
              " 'yourself',\n",
              " 'yourselves',\n",
              " 'he',\n",
              " 'him',\n",
              " 'his',\n",
              " 'himself',\n",
              " 'she',\n",
              " \"she's\",\n",
              " 'her',\n",
              " 'hers',\n",
              " 'herself',\n",
              " 'it',\n",
              " \"it's\",\n",
              " 'its',\n",
              " 'itself',\n",
              " 'they',\n",
              " 'them',\n",
              " 'their',\n",
              " 'theirs',\n",
              " 'themselves',\n",
              " 'what',\n",
              " 'which',\n",
              " 'who',\n",
              " 'whom',\n",
              " 'this',\n",
              " 'that',\n",
              " \"that'll\",\n",
              " 'these',\n",
              " 'those',\n",
              " 'am',\n",
              " 'is',\n",
              " 'are',\n",
              " 'was',\n",
              " 'were',\n",
              " 'be',\n",
              " 'been',\n",
              " 'being',\n",
              " 'have',\n",
              " 'has',\n",
              " 'had',\n",
              " 'having',\n",
              " 'do',\n",
              " 'does',\n",
              " 'did',\n",
              " 'doing',\n",
              " 'a',\n",
              " 'an',\n",
              " 'the',\n",
              " 'and',\n",
              " 'but',\n",
              " 'if',\n",
              " 'or',\n",
              " 'because',\n",
              " 'as',\n",
              " 'until',\n",
              " 'while',\n",
              " 'of',\n",
              " 'at',\n",
              " 'by',\n",
              " 'for',\n",
              " 'with',\n",
              " 'about',\n",
              " 'against',\n",
              " 'between',\n",
              " 'into',\n",
              " 'through',\n",
              " 'during',\n",
              " 'before',\n",
              " 'after',\n",
              " 'above',\n",
              " 'below',\n",
              " 'to',\n",
              " 'from',\n",
              " 'up',\n",
              " 'down',\n",
              " 'in',\n",
              " 'out',\n",
              " 'on',\n",
              " 'off',\n",
              " 'over',\n",
              " 'under',\n",
              " 'again',\n",
              " 'further',\n",
              " 'then',\n",
              " 'once',\n",
              " 'here',\n",
              " 'there',\n",
              " 'when',\n",
              " 'where',\n",
              " 'why',\n",
              " 'how',\n",
              " 'all',\n",
              " 'any',\n",
              " 'both',\n",
              " 'each',\n",
              " 'few',\n",
              " 'more',\n",
              " 'most',\n",
              " 'other',\n",
              " 'some',\n",
              " 'such',\n",
              " 'no',\n",
              " 'nor',\n",
              " 'not',\n",
              " 'only',\n",
              " 'own',\n",
              " 'same',\n",
              " 'so',\n",
              " 'than',\n",
              " 'too',\n",
              " 'very',\n",
              " 's',\n",
              " 't',\n",
              " 'can',\n",
              " 'will',\n",
              " 'just',\n",
              " 'don',\n",
              " \"don't\",\n",
              " 'should',\n",
              " \"should've\",\n",
              " 'now',\n",
              " 'd',\n",
              " 'll',\n",
              " 'm',\n",
              " 'o',\n",
              " 're',\n",
              " 've',\n",
              " 'y',\n",
              " 'ain',\n",
              " 'aren',\n",
              " \"aren't\",\n",
              " 'couldn',\n",
              " \"couldn't\",\n",
              " 'didn',\n",
              " \"didn't\",\n",
              " 'doesn',\n",
              " \"doesn't\",\n",
              " 'hadn',\n",
              " \"hadn't\",\n",
              " 'hasn',\n",
              " \"hasn't\",\n",
              " 'haven',\n",
              " \"haven't\",\n",
              " 'isn',\n",
              " \"isn't\",\n",
              " 'ma',\n",
              " 'mightn',\n",
              " \"mightn't\",\n",
              " 'mustn',\n",
              " \"mustn't\",\n",
              " 'needn',\n",
              " \"needn't\",\n",
              " 'shan',\n",
              " \"shan't\",\n",
              " 'shouldn',\n",
              " \"shouldn't\",\n",
              " 'wasn',\n",
              " \"wasn't\",\n",
              " 'weren',\n",
              " \"weren't\",\n",
              " 'won',\n",
              " \"won't\",\n",
              " 'wouldn',\n",
              " \"wouldn't\"]"
            ]
          },
          "metadata": {
            "tags": []
          },
          "execution_count": 38
        }
      ]
    },
    {
      "cell_type": "code",
      "metadata": {
        "id": "3040c0e9"
      },
      "source": [
        "Stem = PorterStemmer()"
      ],
      "id": "3040c0e9",
      "execution_count": null,
      "outputs": []
    },
    {
      "cell_type": "code",
      "metadata": {
        "id": "d2f9e7c7"
      },
      "source": [
        "for i in range(len(sentence)):\n",
        "    words = nltk.word_tokenize(sentence[i])\n",
        "    words = [Stem.stem(word) for word in words if word not in set(stopwords.words('english'))]\n",
        "    sentence[i] = ' '.join(words)"
      ],
      "id": "d2f9e7c7",
      "execution_count": null,
      "outputs": []
    },
    {
      "cell_type": "code",
      "metadata": {
        "id": "e3f6d428"
      },
      "source": [
        "from nltk.stem import WordNetLemmatizer"
      ],
      "id": "e3f6d428",
      "execution_count": null,
      "outputs": []
    },
    {
      "cell_type": "code",
      "metadata": {
        "id": "0b0f6439"
      },
      "source": [
        "lemmatizer = WordNetLemmatizer()"
      ],
      "id": "0b0f6439",
      "execution_count": null,
      "outputs": []
    },
    {
      "cell_type": "code",
      "metadata": {
        "id": "9a461561"
      },
      "source": [
        "for i in range(len(sentence)):\n",
        "    words = nltk.word_tokenize(sentence[i])\n",
        "    words = [lemmatizer.lemmatize(word) for word in words if word not in set(stopwords.words('english'))]\n",
        "    sentence[i] = ' '.join(words)"
      ],
      "id": "9a461561",
      "execution_count": null,
      "outputs": []
    },
    {
      "cell_type": "code",
      "metadata": {
        "id": "2e009cba"
      },
      "source": [
        ""
      ],
      "id": "2e009cba",
      "execution_count": null,
      "outputs": []
    }
  ]
}