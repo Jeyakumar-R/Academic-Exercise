{
 "cells": [
  {
   "cell_type": "code",
   "execution_count": 2,
   "id": "2550b52d",
   "metadata": {},
   "outputs": [],
   "source": [
    "import nltk\n",
    "import re"
   ]
  },
  {
   "cell_type": "code",
   "execution_count": 3,
   "id": "a658e503",
   "metadata": {},
   "outputs": [],
   "source": [
    "para = \"\"\"It fills my heart with joy unspeakable to rise in response to the warm and cordial welcome which you have given us. I thank you in the name of the most ancient order of monks in the world; I thank you in the name of the mother of religions, and I thank you in the name of millions and millions of Hindu people of all classes and sects.My thanks, also, to some of the speakers on this platform who, referring to the delegates from the Orient, have told you that these men from far-off nations may well claim the honor of bearing to different lands the idea of toleration. I am proud to belong to a religion which has taught the world both tolerance and universal acceptance. We believe not only in universal toleration, but we accept all religions as true. I am proud to belong to a nation which has sheltered the persecuted and the refugees of all religions and all nations of the earth. I am proud to tell you that we have gathered in our bosom the purest remnant of the Israelites, who came to Southern India and took refuge with us in the very year in which their holy temple was shattered to pieces by Roman tyranny. I am proud to belong to the religion which has sheltered and is still fostering the remnant of the grand Zoroastrian nation. I will quote to you, brethren, a few lines from a hymn which I remember to have repeated from my earliest boyhood, which is every day repeated by millions of human beings: \"As the different streams having their sources in different paths which men take through different tendencies, various though they appear, crooked or straight, all lead to Thee.\"The present convention, which is one of the most august assemblies ever held, is in itself a vindication, a declaration to the world of the wonderful doctrine preached in the Gita: \"Whosoever comes to Me, through whatsoever form, I reach him; all men are struggling through paths which in the end lead to me.\" Sectarianism, bigotry, and its horrible descendant, fanaticism, have long possessed this beautiful earth. They have filled the earth with violence, drenched it often and often with human blood, destroyed civilization and sent whole nations to despair. Had it not been for these horrible demons, human society would be far more advanced than it is now. But their time is come; and I fervently hope that the bell that tolled this morning in honor of this convention may be the death-knell of all fanaticism, of all persecutions with the sword or with the pen, and of all uncharitable feelings between persons wending their way to the same goal.\"\"\""
   ]
  },
  {
   "cell_type": "code",
   "execution_count": 4,
   "id": "cd682b4f",
   "metadata": {},
   "outputs": [],
   "source": [
    "sentence = nltk.sent_tokenize(para)"
   ]
  },
  {
   "cell_type": "code",
   "execution_count": 5,
   "id": "a63e1347",
   "metadata": {},
   "outputs": [
    {
     "name": "stdout",
     "output_type": "stream",
     "text": [
      "['It fills my heart with joy unspeakable to rise in response to the warm and cordial welcome which you have given us.', 'I thank you in the name of the most ancient order of monks in the world; I thank you in the name of the mother of religions, and I thank you in the name of millions and millions of Hindu people of all classes and sects.My thanks, also, to some of the speakers on this platform who, referring to the delegates from the Orient, have told you that these men from far-off nations may well claim the honor of bearing to different lands the idea of toleration.', 'I am proud to belong to a religion which has taught the world both tolerance and universal acceptance.', 'We believe not only in universal toleration, but we accept all religions as true.', 'I am proud to belong to a nation which has sheltered the persecuted and the refugees of all religions and all nations of the earth.', 'I am proud to tell you that we have gathered in our bosom the purest remnant of the Israelites, who came to Southern India and took refuge with us in the very year in which their holy temple was shattered to pieces by Roman tyranny.', 'I am proud to belong to the religion which has sheltered and is still fostering the remnant of the grand Zoroastrian nation.', 'I will quote to you, brethren, a few lines from a hymn which I remember to have repeated from my earliest boyhood, which is every day repeated by millions of human beings: \"As the different streams having their sources in different paths which men take through different tendencies, various though they appear, crooked or straight, all lead to Thee.', '\"The present convention, which is one of the most august assemblies ever held, is in itself a vindication, a declaration to the world of the wonderful doctrine preached in the Gita: \"Whosoever comes to Me, through whatsoever form, I reach him; all men are struggling through paths which in the end lead to me.\"', 'Sectarianism, bigotry, and its horrible descendant, fanaticism, have long possessed this beautiful earth.', 'They have filled the earth with violence, drenched it often and often with human blood, destroyed civilization and sent whole nations to despair.', 'Had it not been for these horrible demons, human society would be far more advanced than it is now.', 'But their time is come; and I fervently hope that the bell that tolled this morning in honor of this convention may be the death-knell of all fanaticism, of all persecutions with the sword or with the pen, and of all uncharitable feelings between persons wending their way to the same goal.']\n"
     ]
    }
   ],
   "source": [
    "print(sentence)"
   ]
  },
  {
   "cell_type": "code",
   "execution_count": 6,
   "id": "fd7a936a",
   "metadata": {},
   "outputs": [],
   "source": [
    "from nltk.corpus import stopwords"
   ]
  },
  {
   "cell_type": "code",
   "execution_count": 24,
   "id": "279566ff",
   "metadata": {},
   "outputs": [],
   "source": [
    "for i in range(len(sentence)):\n",
    "    words = nltk.word_tokenize(sentence[i])  \n",
    "    words = [word.lower() for word in words if word.isalpha()]\n",
    "    words = [word for word in words if word not in set(stopwords.words('english'))]\n",
    "    sentence[i] = ' '.join(words)"
   ]
  },
  {
   "cell_type": "code",
   "execution_count": 26,
   "id": "1af8c345",
   "metadata": {},
   "outputs": [
    {
     "data": {
      "text/plain": [
       "['time',\n",
       " 'come',\n",
       " 'fervently',\n",
       " 'hope',\n",
       " 'bell',\n",
       " 'tolled',\n",
       " 'morning',\n",
       " 'honor',\n",
       " 'convention',\n",
       " 'may']"
      ]
     },
     "execution_count": 26,
     "metadata": {},
     "output_type": "execute_result"
    }
   ],
   "source": [
    "words[:10]"
   ]
  },
  {
   "cell_type": "code",
   "execution_count": 28,
   "id": "bab5d36c",
   "metadata": {},
   "outputs": [],
   "source": [
    "import pandas as pd"
   ]
  },
  {
   "cell_type": "code",
   "execution_count": 29,
   "id": "213c5690",
   "metadata": {},
   "outputs": [],
   "source": [
    "bi_gram = (pd.Series(nltk.ngrams(words, 2)).value_counts())[:10]"
   ]
  },
  {
   "cell_type": "code",
   "execution_count": 36,
   "id": "fa027777",
   "metadata": {},
   "outputs": [],
   "source": [
    "tri_gram = (pd.Series(nltk.ngrams(words, 3)).value_counts())[:10]"
   ]
  },
  {
   "cell_type": "code",
   "execution_count": 37,
   "id": "0b44ea2b",
   "metadata": {},
   "outputs": [
    {
     "name": "stdout",
     "output_type": "stream",
     "text": [
      "(bell, tolled)                1\n",
      "(wending, way)                1\n",
      "(hope, bell)                  1\n",
      "(fanaticism, persecutions)    1\n",
      "(uncharitable, feelings)      1\n",
      "(time, come)                  1\n",
      "(pen, uncharitable)           1\n",
      "(tolled, morning)             1\n",
      "(feelings, persons)           1\n",
      "(may, fanaticism)             1\n",
      "dtype: int64\n"
     ]
    }
   ],
   "source": [
    "print(bi_gram)"
   ]
  },
  {
   "cell_type": "code",
   "execution_count": 38,
   "id": "027c25ab",
   "metadata": {},
   "outputs": [
    {
     "name": "stdout",
     "output_type": "stream",
     "text": [
      "(bell, tolled, morning)              1\n",
      "(feelings, persons, wending)         1\n",
      "(tolled, morning, honor)             1\n",
      "(convention, may, fanaticism)        1\n",
      "(morning, honor, convention)         1\n",
      "(uncharitable, feelings, persons)    1\n",
      "(persecutions, sword, pen)           1\n",
      "(wending, way, goal)                 1\n",
      "(may, fanaticism, persecutions)      1\n",
      "(persons, wending, way)              1\n",
      "dtype: int64\n"
     ]
    }
   ],
   "source": [
    "print(tri_gram)"
   ]
  },
  {
   "cell_type": "code",
   "execution_count": null,
   "id": "5831553a",
   "metadata": {},
   "outputs": [],
   "source": []
  }
 ],
 "metadata": {
  "kernelspec": {
   "display_name": "Python 3",
   "language": "python",
   "name": "python3"
  },
  "language_info": {
   "codemirror_mode": {
    "name": "ipython",
    "version": 3
   },
   "file_extension": ".py",
   "mimetype": "text/x-python",
   "name": "python",
   "nbconvert_exporter": "python",
   "pygments_lexer": "ipython3",
   "version": "3.9.5"
  }
 },
 "nbformat": 4,
 "nbformat_minor": 5
}
